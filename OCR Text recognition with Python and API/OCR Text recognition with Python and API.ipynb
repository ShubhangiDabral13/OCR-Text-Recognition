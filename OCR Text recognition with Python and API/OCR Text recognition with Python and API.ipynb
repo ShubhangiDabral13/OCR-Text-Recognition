{
 "cells": [
  {
   "cell_type": "markdown",
   "metadata": {},
   "source": [
    "# OCR Text recognition with Python and API\n"
   ]
  },
  {
   "cell_type": "markdown",
   "metadata": {},
   "source": [
    "### Import  Modules\n",
    "* **cv2:** it is use to read image\n",
    "* **numpy:** it is library used for mathematical computation.  \n",
    "* **request:** to make request to the api\n",
    "* **io:** Converting image to byte\n",
    "* **json:** Converting string into json"
   ]
  },
  {
   "cell_type": "code",
   "execution_count": 17,
   "metadata": {},
   "outputs": [],
   "source": [
    "#import modules\n",
    "import cv2\n",
    "import numpy as np\n",
    "import requests\n",
    "import io\n",
    "import json"
   ]
  },
  {
   "cell_type": "markdown",
   "metadata": {},
   "source": [
    "### 1).Focus on the text in the image and crop the extra part"
   ]
  },
  {
   "cell_type": "code",
   "execution_count": 10,
   "metadata": {},
   "outputs": [],
   "source": [
    "#Reading the image\n",
    "img = cv2.imread(\"screenshot.jpg\")\n",
    "\n",
    "#Displaying the image and finding out how much extra space need to be crop from the image so that only we can focus on text.\n",
    "cv2.imshow(\"Image\", img)\n",
    "cv2.waitKey(0)"
   ]
  },
  {
   "cell_type": "code",
   "execution_count": 11,
   "metadata": {},
   "outputs": [
    {
     "name": "stdout",
     "output_type": "stream",
     "text": [
      "(1080, 1920, 3)\n"
     ]
    }
   ],
   "source": [
    "#Print the size to get to know how tmuch you have to crop the image.\n",
    "print(img.shape)"
   ]
  },
  {
   "cell_type": "code",
   "execution_count": 12,
   "metadata": {},
   "outputs": [],
   "source": [
    "height,width,_ = img.shape\n",
    "\n",
    "#Croping the image.\n",
    "roi = img[0: height ,400: width]\n",
    "\n",
    "cv2.imshow(\"roi\",roi)"
   ]
  },
  {
   "cell_type": "markdown",
   "metadata": {},
   "source": [
    "### 2).Generating OCR Engine through API"
   ]
  },
  {
   "cell_type": "code",
   "execution_count": 13,
   "metadata": {},
   "outputs": [],
   "source": [
    "#OCR\n",
    "url_api = \"https://api.ocr.space/parse/image\"\n",
    "\n",
    "#We will send compressed and image in form of byte to the api\n",
    "_, compressedimage = cv2.imencode(\".jpg\", roi, [1, 90])\n",
    "file_bytes = io.BytesIO(compressedimage)\n",
    "result = requests.post(url_api,\n",
    "              files = {\"screenshot.jpg\": file_bytes},\n",
    "              data = {\"apikey\": \"fff925894b88957\",\n",
    "                      \"language\": \"eng\"})"
   ]
  },
  {
   "cell_type": "code",
   "execution_count": 14,
   "metadata": {},
   "outputs": [
    {
     "name": "stdout",
     "output_type": "stream",
     "text": [
      "{\"ParsedResults\":[{\"TextOverlay\":{\"Lines\":[],\"HasOverlay\":false,\"Message\":\"Text overlay is not provided as it is not requested\"},\"TextOrientation\":\"0\",\"FileParseExitCode\":1,\"ParsedText\":\"The information revolution has a\\r\\nlong way to run\\r\\nThe information revolution is the most subversive force business has ever\\r\\nknown. Already the phenomenon of 'information power to the people'\\r\\nhas given knowledge and authority to front-line workers and techni-\\r\\ncians, destroying the power and often the jobs of middle management\\r\\nwho were previously protected by proprietary knowledge. The intörma-\\r\\n-tion revolution has also decentralized corporations physically: the phone,\\r\\nthe PC, broadband and the increasing miniaturization and mobility ot-\\r\\nthese technologies have already begun to destroy the ofcorporate\\r\\n\",\"ErrorMessage\":\"\",\"ErrorDetails\":\"\"}],\"OCRExitCode\":1,\"IsErroredOnProcessing\":false,\"ProcessingTimeInMilliseconds\":\"652\",\"SearchablePDFURL\":\"Searchable PDF not generated as it was not requested.\"}\n"
     ]
    }
   ],
   "source": [
    "print(result.content.decode())"
   ]
  },
  {
   "cell_type": "code",
   "execution_count": 15,
   "metadata": {},
   "outputs": [
    {
     "name": "stdout",
     "output_type": "stream",
     "text": [
      "{'ParsedResults': [{'TextOverlay': {'Lines': [], 'HasOverlay': False, 'Message': 'Text overlay is not provided as it is not requested'}, 'TextOrientation': '0', 'FileParseExitCode': 1, 'ParsedText': \"The information revolution has a\\r\\nlong way to run\\r\\nThe information revolution is the most subversive force business has ever\\r\\nknown. Already the phenomenon of 'information power to the people'\\r\\nhas given knowledge and authority to front-line workers and techni-\\r\\ncians, destroying the power and often the jobs of middle management\\r\\nwho were previously protected by proprietary knowledge. The intörma-\\r\\n-tion revolution has also decentralized corporations physically: the phone,\\r\\nthe PC, broadband and the increasing miniaturization and mobility ot-\\r\\nthese technologies have already begun to destroy the ofcorporate\\r\\n\", 'ErrorMessage': '', 'ErrorDetails': ''}], 'OCRExitCode': 1, 'IsErroredOnProcessing': False, 'ProcessingTimeInMilliseconds': '652', 'SearchablePDFURL': 'Searchable PDF not generated as it was not requested.'}\n"
     ]
    }
   ],
   "source": [
    "result = result.content.decode()\n",
    "#converting string to dictonary\n",
    "result = json.loads(result)\n",
    "print(result)"
   ]
  },
  {
   "cell_type": "code",
   "execution_count": 16,
   "metadata": {},
   "outputs": [
    {
     "name": "stdout",
     "output_type": "stream",
     "text": [
      "The information revolution has a\r\n",
      "long way to run\r\n",
      "The information revolution is the most subversive force business has ever\r\n",
      "known. Already the phenomenon of 'information power to the people'\r\n",
      "has given knowledge and authority to front-line workers and techni-\r\n",
      "cians, destroying the power and often the jobs of middle management\r\n",
      "who were previously protected by proprietary knowledge. The intörma-\r\n",
      "-tion revolution has also decentralized corporations physically: the phone,\r\n",
      "the PC, broadband and the increasing miniaturization and mobility ot-\r\n",
      "these technologies have already begun to destroy the ofcorporate\r\n",
      "\n"
     ]
    }
   ],
   "source": [
    "parsed_results = result.get(\"ParsedResults\")[0]\n",
    "text_detected = parsed_results.get(\"ParsedText\")\n",
    "print(text_detected)\n"
   ]
  },
  {
   "cell_type": "markdown",
   "metadata": {},
   "source": [
    "~Hence this is the final text."
   ]
  },
  {
   "cell_type": "markdown",
   "metadata": {},
   "source": [
    "ShubhangiDabral13..."
   ]
  }
 ],
 "metadata": {
  "kernelspec": {
   "display_name": "Python 3",
   "language": "python",
   "name": "python3"
  },
  "language_info": {
   "codemirror_mode": {
    "name": "ipython",
    "version": 3
   },
   "file_extension": ".py",
   "mimetype": "text/x-python",
   "name": "python",
   "nbconvert_exporter": "python",
   "pygments_lexer": "ipython3",
   "version": "3.7.1"
  }
 },
 "nbformat": 4,
 "nbformat_minor": 2
}
