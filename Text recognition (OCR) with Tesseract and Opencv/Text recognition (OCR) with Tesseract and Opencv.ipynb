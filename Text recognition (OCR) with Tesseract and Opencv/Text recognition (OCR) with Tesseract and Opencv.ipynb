{
 "cells": [
  {
   "cell_type": "markdown",
   "metadata": {},
   "source": [
    "# Text recognition (OCR) with Tesseract and Opencv\n",
    "\n",
    "### Import  Modules\n",
    "* **cv2:** it is use to read image\n",
    "* **numpy:** it is library used for mathematical computation.  \n",
    "* **pytesseract:**  is an optical character recognition (OCR) tool for python"
   ]
  },
  {
   "cell_type": "code",
   "execution_count": 2,
   "metadata": {},
   "outputs": [],
   "source": [
    "#importing required modules\n",
    "import cv2\n",
    "import numpy as np\n",
    "import pytesseract"
   ]
  },
  {
   "cell_type": "code",
   "execution_count": 3,
   "metadata": {},
   "outputs": [],
   "source": [
    "#to infrom pytesseract where tesseract install in our computer\n",
    "pytesseract.pytesseract.tesseract_cmd = r\"C:\\Program Files\\Tesseract-OCR\\tesseract.exe\""
   ]
  },
  {
   "cell_type": "code",
   "execution_count": 4,
   "metadata": {},
   "outputs": [],
   "source": [
    "#reading the image. \n",
    "img = cv2.imread(\"bigsleep.jpg\")"
   ]
  },
  {
   "cell_type": "code",
   "execution_count": 5,
   "metadata": {},
   "outputs": [
    {
     "name": "stdout",
     "output_type": "stream",
     "text": [
      "THE BIG SLEEP\n",
      "by Raymond Chandler\n",
      "\n",
      "It was about eleven o'clock in the morning, mid October, with the sun not\n",
      "shining and a look of hard wet rain in the clearness of the foothills. I was\n",
      "wearing my powder-blue suit, with dark blue shirt, tie and display\n",
      "handkerchief, black brogues, black wool socks with dark blue clocks on\n",
      "them. I was neat, clean, shaved and sober, and I didn’t care who knew it. I\n",
      "was everything the well-dressed private detective ought to be. T was\n",
      "calling on four million dollars.\n",
      "\n",
      "‘The main hallway of the Sternwood place was two stories high. Over the\n",
      "entrance doors, which would have let in a troop of Indian elephants, there\n",
      "‘was a broad stained-glass panel showing a knight in dark armor rescuing\n"
     ]
    }
   ],
   "source": [
    "#To read text from the image\n",
    "text =  pytesseract.image_to_string(img)\n",
    "print(text)"
   ]
  },
  {
   "cell_type": "markdown",
   "metadata": {},
   "source": [
    "**The image which contain the text in a clear and well define form can be easily converted to text but images which does not contain text in the well formated manner then we need to process those image first.**"
   ]
  },
  {
   "cell_type": "code",
   "execution_count": 6,
   "metadata": {},
   "outputs": [
    {
     "data": {
      "text/plain": [
       "27"
      ]
     },
     "execution_count": 6,
     "metadata": {},
     "output_type": "execute_result"
    }
   ],
   "source": [
    "cv2.imshow(\"img\",img)\n",
    "cv2.waitKey(0)"
   ]
  },
  {
   "cell_type": "code",
   "execution_count": 6,
   "metadata": {},
   "outputs": [
    {
     "name": "stdout",
     "output_type": "stream",
     "text": [
      "as ee |\n",
      "esign before you implement\n",
      "\n",
      "._alarly if the project involves designi\n",
      "particul y designing a product or service, ensur\n",
      "\n",
      "best possible ,\n",
      "ou have the p answer in the design phase before you stat\n",
      "‘ C \\ ¢ rt\n",
      "\n",
      "ation. Another 80/20 rule say\n",
      "‘plement € says that 20 per cent of the prob\n",
      "\n",
      "Jems with any design project cause 60 per cent of the costs o1\n",
      "- Overruns\n",
      "\n",
      "and that 80 per cent of these critical problems arise in the design ph\n",
      "\n",
      "ei Es Z ; 1 p }\n",
      "and are hugely expensive to correct later, requiring massive rework\n",
      "é ¥ q) x } |\n",
      "\n",
      "ases retooling.\n",
      "\n",
      "]\n",
      "\n",
      ", some Cc\n",
      "\n",
      "i\n"
     ]
    }
   ],
   "source": [
    "#Reading another image\n",
    "img = cv2.imread(\"book_page.jpg\")\n",
    "text = pytesseract.image_to_string(img)\n",
    "print(text)"
   ]
  },
  {
   "cell_type": "markdown",
   "metadata": {},
   "source": [
    "~We can see that the text is not represented  in the appropriate format. So we will preprocess the image first."
   ]
  },
  {
   "cell_type": "code",
   "execution_count": 8,
   "metadata": {},
   "outputs": [
    {
     "name": "stdout",
     "output_type": "stream",
     "text": [
      "Design before you implement\n",
      "\n",
      "ularly if the project involves designing a product or service, ensure\n",
      "\n",
      "as the best possible answer in the design phase before you start\n",
      "ci tion. Another 80/20 rule says that 20 per cent of the prob\n",
      "Jementa ay design project cause 80 per cent of the costs or overrun\n",
      "Jems with = < cent of these critical problems arise in the design pha\n",
      "and that 80 P expensive to correct later, requiring massive rework and\n",
      "\n",
      "and are hugely\n",
      "; e cases retooling.\n",
      "\n",
      "in som\n"
     ]
    }
   ],
   "source": [
    "# 1. Load the image\n",
    "img = cv2.imread(\"book_page.jpg\")\n",
    "\n",
    "# 2. Resize the image\n",
    "img = cv2.resize(img, None, fx=0.5, fy=0.5)\n",
    "\n",
    "# 3. Convert image to grayscale\n",
    "gray = cv2.cvtColor(img, cv2.COLOR_BGR2GRAY)\n",
    "\n",
    "text = pytesseract.image_to_string(gray, lang=\"eng\")\n",
    "print(text)"
   ]
  },
  {
   "cell_type": "markdown",
   "metadata": {},
   "source": [
    "~Now also the text is not represented in thee appropriate way.So we will convert gray scale image to black and white. "
   ]
  },
  {
   "cell_type": "code",
   "execution_count": 10,
   "metadata": {},
   "outputs": [
    {
     "name": "stdout",
     "output_type": "stream",
     "text": [
      "Design before you implement\n",
      "\n",
      "scularly if the project involves designing a product or service, ensure\n",
      "Pare e the best possible answer in the design phase before you start\n",
      "u hav tation. Another 80/20 rule says that 20 per cent of the prob-\n",
      "imple any design project cause 80 per cent of the costs or overruns;\n",
      "Jems W g0 per cent of these critical problems arise in the design phase\n",
      "and ae expensive to correct later, requiring massive rework and\n",
      "and are\n",
      "\n",
      ". gome cases retooling.\n",
      "in\n"
     ]
    },
    {
     "data": {
      "text/plain": [
       "-1"
      ]
     },
     "execution_count": 10,
     "metadata": {},
     "output_type": "execute_result"
    }
   ],
   "source": [
    "# 4. Convert image to black and white (using adaptive threshold)\n",
    "adaptive_threshold = cv2.adaptiveThreshold(gray, 255, cv2.ADAPTIVE_THRESH_GAUSSIAN_C, cv2.THRESH_BINARY, 85, 11)\n",
    "\n",
    "config = \"--psm 3\"\n",
    "text = pytesseract.image_to_string(adaptive_threshold, config=config, lang=\"eng\")\n",
    "print(text)\n",
    "\n",
    "cv2.imshow(\"gray\", gray)\n",
    "cv2.imshow(\"adaptive th\", adaptive_threshold)\n",
    "cv2.waitKey(0)"
   ]
  },
  {
   "cell_type": "markdown",
   "metadata": {},
   "source": [
    "~The final text"
   ]
  },
  {
   "cell_type": "markdown",
   "metadata": {},
   "source": [
    "ShubhangiDabral13..."
   ]
  }
 ],
 "metadata": {
  "kernelspec": {
   "display_name": "Python 3",
   "language": "python",
   "name": "python3"
  },
  "language_info": {
   "codemirror_mode": {
    "name": "ipython",
    "version": 3
   },
   "file_extension": ".py",
   "mimetype": "text/x-python",
   "name": "python",
   "nbconvert_exporter": "python",
   "pygments_lexer": "ipython3",
   "version": "3.7.1"
  }
 },
 "nbformat": 4,
 "nbformat_minor": 2
}
